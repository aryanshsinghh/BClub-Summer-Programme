{
 "cells": [
  {
   "cell_type": "code",
   "execution_count": 33,
   "metadata": {},
   "outputs": [],
   "source": [
    "import pandas as pd\n",
    "import numpy as np\n",
    "from sklearn.preprocessing import OneHotEncoder\n",
    "import matplotlib.pyplot as plt\n",
    "oh = OneHotEncoder(handle_unknown='ignore', sparse=False)"
   ]
  },
  {
   "cell_type": "code",
   "execution_count": 34,
   "metadata": {},
   "outputs": [
    {
     "name": "stdout",
     "output_type": "stream",
     "text": [
      "This will take a lot of time, 30 minutes(500iterations) for 88.4%, 1 hour(1000 iterations) for more than 89% accuracy\n"
     ]
    }
   ],
   "source": [
    "#Reading data files\n",
    "data = pd.read_csv('Trainfile.csv')\n",
    "test = pd.read_csv(\"Testfile.csv\")\n",
    "print(\"This will take a lot of time, 40 minutes(500iterations) for 88.9% accuracy, you may increase iterations for more accuracy\")"
   ]
  },
  {
   "cell_type": "code",
   "execution_count": 35,
   "metadata": {},
   "outputs": [],
   "source": [
    "# Data Processing\n",
    "for col in data.columns:\n",
    "    if data[col].isnull().sum() > 0:\n",
    "        data = data.drop(col, axis=1)\n",
    "        test = test.drop(col, axis=1)\n",
    "col = data.dtypes\n",
    "name = list(data.columns)\n",
    "fil_col = []\n",
    "for i in range(len(data.columns)):\n",
    "    if str(col[i]) == \"object\":\n",
    "        fil_col.append(name[i])\n",
    "x = data.iloc[:,:-1]\n",
    "xt = test.iloc[:,:-1]\n",
    "y = data.iloc[:,-1]\n",
    "yt = test.iloc[:,-1]\n",
    "#Encoding String Elements\n",
    "OH_cols_train = pd.DataFrame(oh.fit_transform(x[fil_col]))\n",
    "OH_cols_valid = pd.DataFrame(oh.transform(xt[fil_col]))\n",
    "OH_cols_train.index = x.index\n",
    "OH_cols_valid.index = xt.index\n",
    "num_X_train = x.drop(fil_col, axis=1)\n",
    "num_X_valid = xt.drop(fil_col, axis=1)\n",
    "OH_X_train = pd.concat([num_X_train, OH_cols_train], axis=1)\n",
    "OH_X_valid = pd.concat([num_X_valid, OH_cols_valid], axis=1)\n",
    "arr = OH_X_train.to_numpy()\n",
    "arrt = OH_X_valid.to_numpy()\n",
    "maxx = np.amax(arr, axis=0)\n",
    "t_features=len(arr[0])\n",
    "t_x=len(arr)\n",
    "t_xt = len(arrt)\n",
    "#loop for feature scaling\n",
    "for i in range(t_x):\n",
    "    for j in range(t_features):\n",
    "        arr[i][j]=arr[i][j]/maxx[j]\n",
    "for i in range(t_xt):\n",
    "    for j in range(t_features):\n",
    "        arrt[i][j] = arrt[i][j] / maxx[j]\n",
    "#Creating vectors for Linear Regression\n",
    "x0=np.ones((t_x,1))\n",
    "x0t = np.ones((t_xt, 1))\n",
    "arr= np.append(x0, arr, axis=1)\n",
    "arr=np.transpose(arr)\n",
    "arrt= np.append(x0t, arrt, axis=1)\n",
    "arrt=np.transpose(arrt)\n",
    "theta=np.zeros((1,(t_features+1)))"
   ]
  },
  {
   "cell_type": "code",
   "execution_count": 36,
   "metadata": {},
   "outputs": [],
   "source": [
    "# Algorithm\n",
    "j = [0]\n",
    "alpha = 0.065\n",
    "for i in range(1, 500):\n",
    "    h = np.dot(theta, arr)\n",
    "    temp_theta = np.zeros((1, (t_features+1)))\n",
    "    jt = 0\n",
    "    for k in range(t_x):\n",
    "        jt += (1/(2*t_x))*(h[0][k]-y[k])**2\n",
    "        for p in range((t_features+1)):\n",
    "            temp_theta[0][p] += (1/t_x) *((h[0][k] - y[k])*arr[p][k])\n",
    "    j.append(jt)\n",
    "    if abs(j[i] - j[i - 1]) <= 100:\n",
    "        break\n",
    "    else:\n",
    "        theta = theta - alpha*temp_theta\n",
    "ht = np.dot(theta, arrt)"
   ]
  },
  {
   "cell_type": "code",
   "execution_count": 37,
   "metadata": {},
   "outputs": [
    {
     "name": "stdout",
     "output_type": "stream",
     "text": [
      "11.161726753862036\n"
     ]
    }
   ],
   "source": [
    "#Function for Mean Absolute Percentage Error\n",
    "def MAPE(y_true, y_pred):\n",
    "    y_true, y_pred = np.array(y_true), np.array(y_pred)\n",
    "    return np.mean(np.abs((y_true - y_pred) / y_true)) * 100\n",
    "print(MAPE(yt, ht))"
   ]
  },
  {
   "cell_type": "code",
   "execution_count": 38,
   "metadata": {},
   "outputs": [
    {
     "data": {
      "image/png": "[encoded data removed]",
      "text/plain": [
       "<Figure size 432x288 with 1 Axes>"
      ]
     },
     "metadata": {
      "needs_background": "light"
     },
     "output_type": "display_data"
    }
   ],
   "source": [
    "#Scatter Plot on Data\n",
    "X=np.arange(t_xt)\n",
    "plt.scatter(X,ht,color='r',s=5, label='prediction')\n",
    "plt.scatter(X,yt,color='b',s=5, label='actual')\n",
    "plt.legend()\n",
    "plt.show()"
   ]
  },
  {
   "cell_type": "code",
   "execution_count": null,
   "metadata": {},
   "outputs": [],
   "source": []
  }
 ],
 "metadata": {
  "kernelspec": {
   "display_name": "Python 3",
   "language": "python",
   "name": "python3"
  },
  "language_info": {
   "codemirror_mode": {
    "name": "ipython",
    "version": 3
   },
   "file_extension": ".py",
   "mimetype": "text/x-python",
   "name": "python",
   "nbconvert_exporter": "python",
   "pygments_lexer": "ipython3",
   "version": "3.7.4"
  }
 },
 "nbformat": 4,
 "nbformat_minor": 2
}
